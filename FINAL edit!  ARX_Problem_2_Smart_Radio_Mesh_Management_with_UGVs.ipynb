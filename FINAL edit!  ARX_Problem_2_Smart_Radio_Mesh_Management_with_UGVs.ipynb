{
  "nbformat": 4,
  "nbformat_minor": 0,
  "metadata": {
    "colab": {
      "provenance": [],
      "include_colab_link": true
    },
    "kernelspec": {
      "name": "python3",
      "display_name": "Python 3"
    },
    "language_info": {
      "name": "python"
    }
  },
  "cells": [
    {
      "cell_type": "markdown",
      "metadata": {
        "id": "view-in-github",
        "colab_type": "text"
      },
      "source": [
        "<a href=\"https://colab.research.google.com/github/The-Jasper-Foundation/UGV-Mesh-Network-Simulator/blob/main/FINAL%20edit!%20%20ARX_Problem_2_Smart_Radio_Mesh_Management_with_UGVs.ipynb\" target=\"_parent\"><img src=\"https://colab.research.google.com/assets/colab-badge.svg\" alt=\"Open In Colab\"/></a>"
      ]
    },
    {
      "cell_type": "markdown",
      "source": [
        "ARX Robotics: Day 1 & Day 2 – Smart Radio Mesh Management with UGVs\n",
        "Goal: Use graph algorithms to improve a mesh network of ground vehicles (UGVs) for better range, robustness, and self-healing.\n",
        "\n",
        "Network Description:\n",
        "\n",
        "Each UGV is a node in the graph\n",
        "Links (edges) between them have weights (e.g., signal strength or bandwidth)\n",
        "If a UGV drops out, the network should adapt"
      ],
      "metadata": {
        "id": "kyFca0NGPy-f"
      }
    },
    {
      "cell_type": "markdown",
      "source": [
        "Day 1: Build a Simulation of the Mesh\n",
        "\n",
        "We'll:\n",
        "\n",
        "Create a network of UGVs as a weighted graph\n",
        "Simulate nodes joining/leaving\n",
        "Use algorithms to find optimal paths (e.g., Dijkstra)\n",
        "Visualize the mesh"
      ],
      "metadata": {
        "id": "at8MS-NHP3TM"
      }
    },
    {
      "cell_type": "code",
      "source": [
        "# Install required libraries\n",
        "!pip install networkx matplotlib"
      ],
      "metadata": {
        "id": "-7_Csf5WP7xZ"
      },
      "execution_count": null,
      "outputs": []
    },
    {
      "cell_type": "code",
      "source": [
        "# Step 1: Create and Visualize the Mesh\n",
        "import networkx as nx\n",
        "import matplotlib.pyplot as plt\n",
        "import random\n",
        "\n",
        "# Create a random mesh of UGVs\n",
        "G = nx.Graph()\n",
        "\n",
        "UGVs = ['UGV1', 'UGV2', 'UGV3', 'UGV4', 'UGV5']\n",
        "for i in range(len(UGVs)):\n",
        "    for j in range(i+1, len(UGVs)):\n",
        "        weight = random.randint(1, 10)  # Simulated signal strength\n",
        "        G.add_edge(UGVs[i], UGVs[j], weight=weight)\n",
        "\n",
        "pos = nx.spring_layout(G)\n",
        "labels = nx.get_edge_attributes(G, 'weight')\n",
        "nx.draw(G, pos, with_labels=True, node_color='grey', node_size=1500)\n",
        "nx.draw_networkx_edge_labels(G, pos, edge_labels=labels)\n",
        "plt.title(\"UGV Mesh Network\")\n",
        "plt.show()"
      ],
      "metadata": {
        "id": "Gh740criQCvh"
      },
      "execution_count": null,
      "outputs": []
    },
    {
      "cell_type": "code",
      "source": [
        "# Step 2: Identify Important Nodes\n",
        "centrality = nx.betweenness_centrality(G, weight='weight')\n",
        "sorted_nodes = sorted(centrality.items(), key=lambda item: item[1], reverse=True)\n",
        "print(\"Top relay candidates:\")\n",
        "for node, score in sorted_nodes:\n",
        "    print(f\"{node}: {score:.3f}\")"
      ],
      "metadata": {
        "id": "3kOjieh-QFa1"
      },
      "execution_count": null,
      "outputs": []
    },
    {
      "cell_type": "code",
      "source": [
        "# Step 3: Simulate Node Failure and Reconnect\n",
        "G.remove_node('UGV3')  # simulate failure\n",
        "print(\"UGV3 removed. Is network still connected?:\", nx.is_connected(G))\n",
        "\n",
        "# Re-add a new node to heal network\n",
        "G.add_node('UGV6')\n",
        "G.add_edge('UGV6', 'UGV1', weight=5)\n",
        "G.add_edge('UGV6', 'UGV2', weight=4)\n",
        "print(\"UGV6 added to reconnect. Is network connected now?:\", nx.is_connected(G))"
      ],
      "metadata": {
        "id": "n6vjJMyyQGKU"
      },
      "execution_count": null,
      "outputs": []
    },
    {
      "cell_type": "code",
      "source": [
        "import networkx as nx\n",
        "import matplotlib.pyplot as plt\n",
        "import random\n",
        "\n",
        "# === Step 1: Initialize ===\n",
        "UGVs = ['UGV1', 'UGV2', 'UGV3', 'UGV4', 'UGV5']\n",
        "G = nx.Graph()\n",
        "\n",
        "# Simulate mesh with signal strength as edge weights (1=best, 10=weak)\n",
        "for i in range(len(UGVs)):\n",
        "    for j in range(i+1, len(UGVs)):\n",
        "        weight = random.randint(1, 10)\n",
        "        G.add_edge(UGVs[i], UGVs[j], weight=weight)\n",
        "\n",
        "# === Checkpoint logic simulation ===\n",
        "checkpoints = ['CP1', 'CP2', 'CP3']\n",
        "disconnected_node = 'UGV3'\n",
        "reconnect_threshold = 5  # signal strength threshold to reconnect\n",
        "min_required_connections = 2\n",
        "starting_point = 'BaseStation'\n",
        "\n",
        "def visualize(G, title=\"\"):\n",
        "    pos = nx.spring_layout(G)\n",
        "    labels = nx.get_edge_attributes(G, 'weight')\n",
        "    nx.draw(G, pos, with_labels=True, node_color='grey', node_size=1500)\n",
        "    nx.draw_networkx_edge_labels(G, pos, edge_labels=labels)\n",
        "    plt.title(title)\n",
        "    plt.show()\n",
        "\n",
        "# Visualize initial\n",
        "visualize(G, \"Initial UGV Mesh Network\")\n",
        "\n",
        "# === Simulate disconnection at first checkpoint ===\n",
        "G.remove_node(disconnected_node)\n",
        "print(f\"{disconnected_node} disconnected at {checkpoints[0]}. Is network connected?:\", nx.is_connected(G))\n",
        "\n",
        "# Placeholder for tracking connections over checkpoints\n",
        "reconnected = False\n",
        "for cp_index in range(1, len(checkpoints)):\n",
        "    print(f\"\\n-- Passing {checkpoints[cp_index]} --\")\n",
        "\n",
        "    # Simulate disconnected node moving closer and trying to reconnect\n",
        "    G.add_node(disconnected_node)\n",
        "    connections = 0\n",
        "    for node in G.nodes():\n",
        "        if node == disconnected_node:\n",
        "            continue\n",
        "        signal = random.randint(1, 10)  # simulate signal strength\n",
        "        if signal <= reconnect_threshold:\n",
        "            G.add_edge(disconnected_node, node, weight=signal)\n",
        "            connections += 1\n",
        "            print(f\"{disconnected_node} reconnected to {node} with signal {signal}\")\n",
        "\n",
        "    if connections >= min_required_connections:\n",
        "        print(f\"{disconnected_node} successfully rejoined the mesh.\")\n",
        "        reconnected = True\n",
        "        break\n",
        "    else:\n",
        "        print(f\"{disconnected_node} only found {connections} connection(s). Insufficient for stable mesh.\")\n",
        "        G.remove_node(disconnected_node)  # simulate still isolated\n",
        "\n",
        "# === After 2 checkpoints ===\n",
        "if not reconnected:\n",
        "    print(f\"\\n{disconnected_node} still isolated after 2 checkpoints. Recalling to {starting_point}.\")\n",
        "    G.add_node(disconnected_node)\n",
        "    # Try connecting to base station or minimum viable set\n",
        "    possible_connections = [node for node in G.nodes() if node != disconnected_node]\n",
        "    connected = 0\n",
        "    for node in possible_connections:\n",
        "        signal = random.randint(1, 10)\n",
        "        if signal <= reconnect_threshold:\n",
        "            G.add_edge(disconnected_node, node, weight=signal)\n",
        "            connected += 1\n",
        "            print(f\"{disconnected_node} connected to {node} at base with signal {signal}\")\n",
        "\n",
        "    if connected >= min_required_connections:\n",
        "        print(f\"{disconnected_node} has stable connection at base. Continuing operations.\")\n",
        "    else:\n",
        "        print(f\"{disconnected_node} failed to establish reliable base connection. Full recall triggered.\")\n",
        "\n",
        "# === Final visualization ===\n",
        "visualize(G, \"UGV Mesh After Reconnection Process\")\n"
      ],
      "metadata": {
        "id": "UHTbrYl3sfqs"
      },
      "execution_count": null,
      "outputs": []
    },
    {
      "cell_type": "code",
      "source": [
        "def simulate_failure(G, node_to_remove):\n",
        "    print(f\"\\n[!] Simulating failure: {node_to_remove}\")\n",
        "    G.remove_node(node_to_remove)\n",
        "    print(\"Is network still connected?\", nx.is_connected(G))\n",
        "    visualize(G, f\"Mesh After {node_to_remove} Failure\")\n"
      ],
      "metadata": {
        "id": "jJwtZZMB8HnN"
      },
      "execution_count": null,
      "outputs": []
    },
    {
      "cell_type": "code",
      "source": [
        "simulate_failure(G, 'UGV3')\n"
      ],
      "metadata": {
        "id": "8OVzCiQE8IjA"
      },
      "execution_count": null,
      "outputs": []
    },
    {
      "cell_type": "code",
      "source": [
        "def reconnect_UGV(G, ugv_id, base='UGV1', strength_threshold=5, required_links=2):\n",
        "    print(f\"\\n[+] Attempting to reconnect {ugv_id}\")\n",
        "    G.add_node(ugv_id)\n",
        "    connected = 0\n",
        "    for node in G.nodes:\n",
        "        if node == ugv_id:\n",
        "            continue\n",
        "        signal = random.randint(1, 10)\n",
        "        if signal <= strength_threshold:\n",
        "            G.add_edge(ugv_id, node, weight=signal)\n",
        "            print(f\"{ugv_id} reconnected to {node} with signal {signal}\")\n",
        "            connected += 1\n",
        "    if connected >= required_links:\n",
        "        print(f\"[✓] {ugv_id} successfully rejoined the mesh.\")\n",
        "    else:\n",
        "        print(f\"[✗] {ugv_id} failed to reconnect. Returning to base {base}\")\n",
        "        # Retry reconnecting only to base\n",
        "        signal = random.randint(1, 10)\n",
        "        G.add_edge(ugv_id, base, weight=signal)\n",
        "        print(f\"{ugv_id} connected to base {base} with signal {signal}\")\n",
        "    visualize(G, f\"{ugv_id} Reconnection Result\")\n"
      ],
      "metadata": {
        "id": "qX3kdMpt8QsP"
      },
      "execution_count": null,
      "outputs": []
    },
    {
      "cell_type": "code",
      "source": [
        "reconnect_UGV(G, 'UGV3')\n"
      ],
      "metadata": {
        "id": "NqN3D2578XZf"
      },
      "execution_count": null,
      "outputs": []
    },
    {
      "cell_type": "code",
      "source": [
        "# Safe height simulation\n",
        "safe_height = {ugv: random.randint(10, 30) for ugv in G.nodes()}  # in meters\n",
        "min_safe_height = 15\n",
        "\n",
        "for ugv, height in safe_height.items():\n",
        "    if height < min_safe_height:\n",
        "        print(f\"[WARNING] {ugv} flying too low at {height}m! Increase altitude.\")\n"
      ],
      "metadata": {
        "id": "0ld_WEom8iQu"
      },
      "execution_count": null,
      "outputs": []
    },
    {
      "cell_type": "code",
      "source": [
        "positions = {\n",
        "    'UGV1': (0, 0),\n",
        "    'UGV2': (2, 1),\n",
        "    'UGV3': (4, 0),\n",
        "    'UGV4': (1, 3),\n",
        "    'UGV5': (3, 3)\n",
        "}\n"
      ],
      "metadata": {
        "id": "PUhVXh-p_1wQ"
      },
      "execution_count": null,
      "outputs": []
    },
    {
      "cell_type": "code",
      "source": [
        "G = nx.Graph()\n",
        "\n",
        "# Add nodes\n",
        "for ugv in positions:\n",
        "    G.add_node(ugv, pos=positions[ugv])\n",
        "\n",
        "# Add safe height check\n",
        "safe_height = {ugv: random.randint(10, 30) for ugv in positions}\n",
        "min_safe_height = 15\n",
        "for ugv, height in safe_height.items():\n",
        "    if height < min_safe_height:\n",
        "        print(f\"[WARNING] {ugv} flying too low at {height}m! Increase altitude.\")\n",
        "\n",
        "# Obstacle area\n",
        "obstacles = [(2, 1.5, 1)]  # Format: (x, y, radius)\n",
        "\n",
        "# Define obstacle check again for reuse\n",
        "def is_in_obstacle(p1, p2, obstacles):\n",
        "    for ox, oy, r in obstacles:\n",
        "        mx, my = (p1[0]+p2[0])/2, (p1[1]+p2[1])/2\n",
        "        if ((mx - ox)**2 + (my - oy)**2) < r**2:\n",
        "            return True\n",
        "    return False\n",
        "\n",
        "# Create edges only if safe\n",
        "for n1 in positions:\n",
        "    for n2 in positions:\n",
        "        if n1 != n2:\n",
        "            if not is_in_obstacle(positions[n1], positions[n2], obstacles):\n",
        "                dist = euclidean(positions[n1], positions[n2])\n",
        "                weight = round(1 / (dist + 0.1), 2)\n",
        "                G.add_edge(n1, n2, weight=weight)\n"
      ],
      "metadata": {
        "id": "ubNEadLUAHgV"
      },
      "execution_count": null,
      "outputs": []
    },
    {
      "cell_type": "code",
      "source": [
        "def visualize(G, title=\"UGV Mesh Network\"):\n",
        "    pos = nx.get_node_attributes(G, 'pos')\n",
        "    labels = nx.get_edge_attributes(G, 'weight')\n",
        "\n",
        "    # Draw base mesh\n",
        "    nx.draw(G, pos, with_labels=True, node_color='grey', node_size=1500)\n",
        "    nx.draw_networkx_edge_labels(G, pos, edge_labels=labels)\n",
        "\n",
        "    # Draw obstacles\n",
        "    for ox, oy, r in obstacles:\n",
        "        circle = plt.Circle((ox, oy), r, color='red', alpha=0.3)\n",
        "        plt.gca().add_patch(circle)\n",
        "\n",
        "    plt.title(title)\n",
        "    plt.axis('equal')\n",
        "    plt.show()\n"
      ],
      "metadata": {
        "id": "rPofb2-ZAh-B"
      },
      "execution_count": null,
      "outputs": []
    },
    {
      "cell_type": "code",
      "source": [
        "from ipywidgets import interact\n",
        "\n",
        "def drop_and_test(node):\n",
        "    simulate_failure(G.copy(), node)\n",
        "\n",
        "interact(drop_and_test, node=list(G.nodes))\n"
      ],
      "metadata": {
        "id": "t4aWGPuhAk6s"
      },
      "execution_count": null,
      "outputs": []
    },
    {
      "cell_type": "code",
      "source": [
        "for ox, oy, r in obstacles:\n",
        "    circle = plt.Circle((ox, oy), r, color='red', alpha=0.3)\n",
        "    plt.gca().add_patch(circle)\n"
      ],
      "metadata": {
        "id": "HSN5qeoyAKSP"
      },
      "execution_count": null,
      "outputs": []
    },
    {
      "cell_type": "code",
      "source": [
        "def move_toward(p1, p2, step_size=0.2):\n",
        "    dx, dy = p2[0] - p1[0], p2[1] - p1[1]\n",
        "    dist = math.hypot(dx, dy)\n",
        "    if dist == 0:\n",
        "        return p1\n",
        "    return (p1[0] + step_size * dx / dist, p1[1] + step_size * dy / dist)\n"
      ],
      "metadata": {
        "id": "pzQWQ31JA-hx"
      },
      "execution_count": null,
      "outputs": []
    },
    {
      "cell_type": "code",
      "source": [
        "import time\n",
        "\n",
        "def animated_reconnect(G, moving_node='UGV3', target_node='UGV1', max_steps=20, threshold=0.4):\n",
        "    # Get original positions\n",
        "    start_pos = positions[moving_node]\n",
        "    target_pos = positions[target_node]\n",
        "\n",
        "    for step in range(max_steps):\n",
        "        # Move toward target\n",
        "        new_pos = move_toward(start_pos, target_pos)\n",
        "        positions[moving_node] = new_pos\n",
        "        G.nodes[moving_node]['pos'] = new_pos\n",
        "\n",
        "        # Check obstacle\n",
        "        if is_in_obstacle(new_pos, target_pos, obstacles):\n",
        "            print(f\"Step {step}: BLOCKED by obstacle! Re-routing or abort.\")\n",
        "            break\n",
        "\n",
        "        # Calculate signal strength\n",
        "        dist = euclidean(new_pos, target_pos)\n",
        "        strength = round(1 / (dist + 0.1), 2)\n",
        "\n",
        "        # Visualize\n",
        "        visualize(G, f\"Step {step} - Pos {new_pos}, Signal {strength}\")\n",
        "        time.sleep(0.5)\n",
        "\n",
        "        # Attempt reconnection\n",
        "        if strength >= threshold:\n",
        "            G.add_edge(moving_node, target_node, weight=strength)\n",
        "            print(f\"[✓] Reconnected at step {step} with signal {strength}\")\n",
        "            visualize(G, f\"UGV3 Reconnected at Step {step}\")\n",
        "            return\n",
        "\n",
        "        start_pos = new_pos\n",
        "\n",
        "    print(\"[✗] Failed to reconnect within allowed steps.\")\n"
      ],
      "metadata": {
        "id": "d0Cl59QLA_7n"
      },
      "execution_count": null,
      "outputs": []
    },
    {
      "cell_type": "code",
      "source": [
        "animated_reconnect(G, moving_node='UGV3', target_node='UGV1')\n"
      ],
      "metadata": {
        "id": "t40uvJg2BDp_"
      },
      "execution_count": null,
      "outputs": []
    },
    {
      "cell_type": "code",
      "source": [
        "def move_all_ugvs(positions, goals, step_size=0.5):\n",
        "    for ugv in positions:\n",
        "        current = positions[ugv]\n",
        "        goal = goals[ugv]\n",
        "        new_pos = move_toward(current, goal, step_size)\n",
        "        positions[ugv] = new_pos\n"
      ],
      "metadata": {
        "id": "Z3bm8OUDB98P"
      },
      "execution_count": null,
      "outputs": []
    },
    {
      "cell_type": "code",
      "source": [
        "def rebuild_mesh(G, positions, signal_threshold=0.4):\n",
        "    G.clear_edges()\n",
        "    nodes = list(positions.keys())\n",
        "    for i in range(len(nodes)):\n",
        "        for j in range(i + 1, len(nodes)):\n",
        "            n1, n2 = nodes[i], nodes[j]\n",
        "            if is_in_obstacle(positions[n1], positions[n2], obstacles):\n",
        "                continue\n",
        "            dist = euclidean(positions[n1], positions[n2])\n",
        "            strength = round(1 / (dist + 0.1), 2)\n",
        "            if strength >= signal_threshold:\n",
        "                G.add_edge(n1, n2, weight=strength)\n"
      ],
      "metadata": {
        "id": "SZQjSwMLCDBt"
      },
      "execution_count": null,
      "outputs": []
    },
    {
      "cell_type": "code",
      "source": [
        "def simulate_battlefield(G, positions, goals, steps=20):\n",
        "    for step in range(steps):\n",
        "        move_all_ugvs(positions, goals)\n",
        "        for ugv in G.nodes:\n",
        "            G.nodes[ugv]['pos'] = positions[ugv]\n",
        "        rebuild_mesh(G, positions)\n",
        "        visualize(G, f\"Battlefield Step {step}\")\n",
        "        time.sleep(0.5)\n"
      ],
      "metadata": {
        "id": "8Q5gkzypCGdM"
      },
      "execution_count": null,
      "outputs": []
    },
    {
      "cell_type": "code",
      "source": [
        "# Define start positions\n",
        "positions = {\n",
        "    'UGV1': (0, 0),\n",
        "    'UGV2': (4, 1),\n",
        "    'UGV3': (2, 5),\n",
        "    'UGV4': (1, 3),\n",
        "    'UGV5': (3, 3)\n",
        "}\n",
        "\n",
        "# Define random goal positions\n",
        "goals = {ugv: (random.uniform(0, 6), random.uniform(0, 6)) for ugv in positions}\n",
        "\n",
        "# Init graph\n",
        "G = nx.Graph()\n",
        "for ugv in positions:\n",
        "    G.add_node(ugv, pos=positions[ugv])\n",
        "\n",
        "# Obstacle zones\n",
        "obstacles = [(2.5, 2.5, 1), (4, 4, 0.8)]\n",
        "\n",
        "# Start simulation\n",
        "simulate_battlefield(G, positions, goals, steps=25)\n"
      ],
      "metadata": {
        "id": "vN2a8CfLCJyd"
      },
      "execution_count": null,
      "outputs": []
    },
    {
      "cell_type": "code",
      "source": [
        "UGV_BASE = (0, 0)  # coordinates for base\n"
      ],
      "metadata": {
        "id": "pgS6bvarCpzE"
      },
      "execution_count": null,
      "outputs": []
    },
    {
      "cell_type": "code",
      "source": [
        "returning_home = {ugv: False for ugv in positions}\n"
      ],
      "metadata": {
        "id": "jb1r_2ytCqeG"
      },
      "execution_count": null,
      "outputs": []
    },
    {
      "cell_type": "code",
      "source": [
        "def move_all_ugvs(positions, goals, returning_home, step_size=0.3):\n",
        "    for ugv in positions:\n",
        "        if returning_home[ugv]:\n",
        "            goal = UGV_BASE\n",
        "        else:\n",
        "            goal = goals[ugv]\n",
        "        current = positions[ugv]\n",
        "        new_pos = move_toward(current, goal, step_size)\n",
        "        positions[ugv] = new_pos\n"
      ],
      "metadata": {
        "id": "SdxBocHjCu2S"
      },
      "execution_count": null,
      "outputs": []
    },
    {
      "cell_type": "code",
      "source": [
        "# If a UGV has no connections, mark it as returning to base\n",
        "for ugv in G.nodes:\n",
        "    if G.degree[ugv] == 0 and not returning_home[ugv]:\n",
        "        print(f\"[RTB] {ugv} lost contact! Returning to base.\")\n",
        "        returning_home[ugv] = True\n"
      ],
      "metadata": {
        "id": "6HqK9YFfCxNy"
      },
      "execution_count": null,
      "outputs": []
    },
    {
      "cell_type": "code",
      "source": [
        "MAX_FUEL = 30  # number of steps before forced return\n",
        "fuel_levels = {ugv: MAX_FUEL for ugv in positions}\n",
        "\n",
        "# Random chance some drones are tampered with\n",
        "tampered = {ugv: random.random() < 0.2 for ugv in positions}  # 20% chance\n"
      ],
      "metadata": {
        "id": "JX3uYLJiCyf7"
      },
      "execution_count": null,
      "outputs": []
    },
    {
      "cell_type": "code",
      "source": [
        "# ↓ Burn fuel each round\n",
        "for ugv in fuel_levels:\n",
        "    fuel_levels[ugv] -= 1\n",
        "    if fuel_levels[ugv] <= 5 and not returning_home[ugv]:\n",
        "        print(f\"[⛽] {ugv} low on fuel! Returning to base.\")\n",
        "        returning_home[ugv] = True\n"
      ],
      "metadata": {
        "id": "cW08KYrKDE6N"
      },
      "execution_count": null,
      "outputs": []
    },
    {
      "cell_type": "code",
      "source": [
        "for ugv in returning_home:\n",
        "    if returning_home[ugv] and tampered[ugv]:\n",
        "        print(f\"[⚠️ SECURITY] {ugv} tampered! Denying base entry.\")\n",
        "        returning_home[ugv] = False\n",
        "        goals[ugv] = (random.uniform(0, 6), random.uniform(0, 6))  # wander randomly\n"
      ],
      "metadata": {
        "id": "KUxK5Qg8DHCL"
      },
      "execution_count": null,
      "outputs": []
    },
    {
      "cell_type": "code",
      "source": [
        "colors = ['red' if tampered[n] else 'grey' for n in G.nodes]\n",
        "nx.draw(G, pos, with_labels=True, node_color=colors, node_size=1500)\n"
      ],
      "metadata": {
        "id": "DV0DQCPfDI1t"
      },
      "execution_count": null,
      "outputs": []
    },
    {
      "cell_type": "code",
      "source": [
        "# This is a comment.  The provided input is not Python code and therefore cannot be \"corrected\".\n",
        "#  The instruction \"Edit > Clear all outputs\" is a Jupyter Notebook menu command and not executable code."
      ],
      "metadata": {
        "id": "g6rie4ZZcyY6"
      },
      "execution_count": null,
      "outputs": []
    }
  ]
}